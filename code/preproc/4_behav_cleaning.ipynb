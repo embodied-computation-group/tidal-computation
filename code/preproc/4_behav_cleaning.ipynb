{
 "cells": [
  {
   "cell_type": "code",
   "execution_count": 12,
   "metadata": {},
   "outputs": [
    {
     "name": "stdout",
     "output_type": "stream",
     "text": [
      "/Users/au281249/Documents/code/Respiratory_DDM-1\n"
     ]
    },
    {
     "data": {
      "text/plain": [
       "<module 'paths' from '../paths.py'>"
      ]
     },
     "execution_count": 12,
     "metadata": {},
     "output_type": "execute_result"
    }
   ],
   "source": [
    "import pandas as pd\n",
    "import matplotlib.pyplot as plt\n",
    "import behav_cleaning as bc\n",
    "import numpy as np\n",
    "from pathlib import Path\n",
    "import sys\n",
    "sys.path.append('..')\n",
    "import paths\n",
    "\n",
    "from importlib import reload\n",
    "reload(paths)"
   ]
  },
  {
   "cell_type": "code",
   "execution_count": 13,
   "metadata": {},
   "outputs": [
    {
     "name": "stdout",
     "output_type": "stream",
     "text": [
      "33721\n",
      "26240\n"
     ]
    }
   ],
   "source": [
    "# Import csv with logfiles from all subjects\n",
    "data_file_path = paths.data_master\n",
    "data = pd.read_csv(data_file_path)\n",
    "print(len(data))\n",
    "data=data.loc[data.trialType=='experiment'] # only keep test trials (exclude introduction and staircase trials)\n",
    "print(len(data))\n",
    "\n",
    "# create plotter object\n",
    "plotter = bc.plot()\n"
   ]
  },
  {
   "cell_type": "code",
   "execution_count": 14,
   "metadata": {},
   "outputs": [
    {
     "name": "stdout",
     "output_type": "stream",
     "text": [
      "[1003  179 1002 1001  211  190  132  210 1006  525 1007 1004 1005 1011\n",
      " 1008  123 1010  219 1009 1013  171 1012  184   19 1014 1015 1016 1017\n",
      "   90   94  111   66  224   72   98   80  220  118   27   76  101]\n"
     ]
    }
   ],
   "source": [
    "# print subject ID's\n",
    "print(data.subject.unique())"
   ]
  },
  {
   "cell_type": "code",
   "execution_count": 15,
   "metadata": {},
   "outputs": [],
   "source": [
    "# define max values for bad trials or subjects\n",
    "fastRT = 0.1    # in sec. - faster than this is a fast trial\n",
    "maxNumberOfMissedTrials = 30    # max number per subject per task\n",
    "maxAbsCriterion = 0.6   # higher values in RDM are taken to indicate poor task compliance"
   ]
  },
  {
   "cell_type": "code",
   "execution_count": 16,
   "metadata": {},
   "outputs": [
    {
     "data": {
      "image/png": "[encoded data removed]",
      "text/plain": [
       "<Figure size 432x288 with 1 Axes>"
      ]
     },
     "metadata": {
      "needs_background": "light"
     },
     "output_type": "display_data"
    },
    {
     "data": {
      "image/png": "[encoded data removed]",
      "text/plain": [
       "<Figure size 432x288 with 1 Axes>"
      ]
     },
     "metadata": {
      "needs_background": "light"
     },
     "output_type": "display_data"
    },
    {
     "name": "stdout",
     "output_type": "stream",
     "text": [
      "n fast trials:  3\n"
     ]
    }
   ],
   "source": [
    "# set fast trials as fast trials\n",
    "data = bc.setBadTrials(data, 'rt', fastRT, '<', 'fastTrial')\n",
    "\n",
    "#plot all rt's \n",
    "plt.hist( data.rt, bins=50)\n",
    "plt.vlines(0.1,0,3000, color='k')\n",
    "plt.show()\n",
    "plt.hist( data.rt, bins=50)\n",
    "plt.vlines(0.1,0,3000, color='k')\n",
    "plt.xlim(0,0.2)\n",
    "plt.ylim(0,sum(data.fastTrial)*2)\n",
    "plt.show()\n",
    "print('n fast trials: ',sum(data.fastTrial))"
   ]
  },
  {
   "cell_type": "code",
   "execution_count": 11,
   "metadata": {},
   "outputs": [
    {
     "name": "stdout",
     "output_type": "stream",
     "text": [
      "bad subjects RDM  []\n",
      "bad subjects Emo []\n"
     ]
    },
    {
     "data": {
      "image/png": "[encoded data removed]",
      "text/plain": [
       "<Figure size 720x360 with 2 Axes>"
      ]
     },
     "metadata": {
      "needs_background": "light"
     },
     "output_type": "display_data"
    }
   ],
   "source": [
    "# # plot number of missed trials per condition per subject\n",
    "meta = bc.getSubjectLvlData(data, fastRT=fastRT)\n",
    "plotter.missedResponses(meta)\n",
    "\n",
    "# get subjects with hig number of missed trials in each task\n",
    "badSubjectsRDM = bc.getBadSubjects(meta, 'missedRDM', maxNumberOfMissedTrials, '>')\n",
    "badSubjectsEmo = bc.getBadSubjects(meta, 'missedEmo', maxNumberOfMissedTrials, '>')\n",
    "print('bad subjects RDM ', badSubjectsRDM)\n",
    "print('bad subjects Emo', badSubjectsEmo)\n",
    "\n",
    "#set column with 'True'  if subjects have high number of missed trials\n",
    "data = bc.setExclusion(data, badSubjectsRDM, 'missedTrialsRDM')\n",
    "data= bc.setExclusion(data, badSubjectsEmo, 'missedTrialsEmo')"
   ]
  },
  {
   "cell_type": "code",
   "execution_count": 12,
   "metadata": {},
   "outputs": [
    {
     "name": "stdout",
     "output_type": "stream",
     "text": [
      "bad subjects  [90.0, 94.0, 72.0, 80.0]\n"
     ]
    },
    {
     "data": {
      "image/png": "[encoded data removed]",
      "text/plain": [
       "<Figure size 720x360 with 1 Axes>"
      ]
     },
     "metadata": {
      "needs_background": "light"
     },
     "output_type": "display_data"
    }
   ],
   "source": [
    "# plot criterion in RDM\n",
    "plotter.criterion(meta)\n",
    "\n",
    "# get subjects with abs criterion > maxAbsCriterion\n",
    "badSubjects = bc.getBadSubjects(meta, 'absC', maxAbsCriterion, '>')\n",
    "print('bad subjects ', badSubjects)\n",
    "\n",
    "#set column with 'True'  if subjects abs criterion > 0.6\n",
    "data = bc.setExclusion(data, badSubjects, 'bad_absC')"
   ]
  },
  {
   "cell_type": "markdown",
   "metadata": {},
   "source": [
    "Exclude bad trials and subjects,\n",
    "Remove redundant cols,\n",
    "Rename stuff,\n",
    "Save df for each task with only experiment trials"
   ]
  },
  {
   "cell_type": "code",
   "execution_count": 13,
   "metadata": {},
   "outputs": [],
   "source": [
    "# add trial number\n",
    "blockTrials = []\n",
    "for subject in data.subject.unique():\n",
    "    for task in data.stimuli.unique():\n",
    "        for block in data.block.unique():\n",
    "            l = len(data.loc[(data.subject==subject) & (data.block==block) & (data.stimuli==task)])\n",
    "            blockTrials.append(np.arange(0,l))\n",
    "            # for i in range(l):\n",
    "            #     data.loc[(data.subject==subject) & (data.block==block) & (data.stimuli==task)]\n",
    "trialNumberList = np.concatenate(blockTrials)\n",
    "data.trialNumber = trialNumberList\n",
    "\n",
    "\n",
    "# set respons to 1 or 0\n",
    "data.loc[data.response == 'up', 'response'] = 1\n",
    "data.loc[data.response == 'down', 'response'] = 0\n",
    "\n",
    "\n",
    "## sclect RDM trials  \n",
    "rdm = data.loc[data.stimuli == 'cRDM'] # only random dot motion trials are relevant\n",
    "rdmOld = rdm.copy()\n",
    "# reject trials and subject based on behavioural measures\n",
    "rdm = rdm.dropna(subset=['response']) # remove trials wo. response\n",
    "rdm = rdm.loc[rdm.bad_absC == False] # removed biased subjects\n",
    "rdm = rdm.loc[rdm.fastTrial == False] # removed unrealisticly fast trials\n",
    "\n",
    "rdm = rdm.rename(columns={'rand':'dir'})\n",
    "rdm.loc[rdm.dir == 'up', 'dir'] = 1\n",
    "rdm.loc[rdm.dir == 'down', 'dir'] = 0\n",
    "# drop redundant columns\n",
    "rdm=rdm.drop([\n",
    "            'stimuli', 'trialType', 'bad_absC', 'fastTrial',\n",
    "              'Unnamed: 0', 'Unnamed: 0.1', 'missedTrialsRDM', 'missedTrialsEmo',\n",
    "              'estIntens', 'estThres', 'estSlope', 'onset', 'responsI','stimTime',\n",
    "              'trialStart','headRest',\n",
    "              ], axis=1) \n",
    "\n",
    "\n",
    "## select FAD trials\n",
    "fad = data.loc[data.stimuli == 'emotion'] # only face affect diskrimination trials are relevant\n",
    "fadOld = fad.copy()\n",
    "# reject trials and subject based on behavioural measures\n",
    "fad = fad.dropna(subset=['response']) # remove trials wo. response\n",
    "fad = fad.loc[fad.fastTrial == False] # removed unrealisticly fast trials\n",
    "\n",
    "\n",
    "# create emotion lvl column with 4 catagroical levels for all subs instead of their personal levels\n",
    "fad['emotion'] = None\n",
    "for sub in fad.subject.unique():\n",
    "    lvls = fad.loc[fad.subject == sub]['stimLvl'].unique() # get list of stimlvls for per subject\n",
    "    lvls.sort()\n",
    "    fad.loc[(fad.subject == sub) & (fad.stimLvl == lvls[0]), 'emotion'] = 0\n",
    "    fad.loc[(fad.subject == sub) & (fad.stimLvl == lvls[1]), 'emotion'] = 1\n",
    "    fad.loc[(fad.subject == sub) & (fad.stimLvl == lvls[2]), 'emotion'] = 2\n",
    "    fad.loc[(fad.subject == sub) & (fad.stimLvl == lvls[3]), 'emotion'] = 3\n",
    "    \n",
    "# drop redundant columns\n",
    "fad=fad.drop([\n",
    "             'stimuli', 'trialType', 'bad_absC', 'fastTrial',\n",
    "              'Unnamed: 0', 'Unnamed: 0.1', 'missedTrialsRDM', 'missedTrialsEmo',\n",
    "              'estIntens', 'estThres', 'estSlope', 'onset', 'responsI','stimTime',\n",
    "              'trialStart','headRest', 'rand', 'hit'\n",
    "              ], axis=1) "
   ]
  },
  {
   "cell_type": "code",
   "execution_count": 9,
   "metadata": {},
   "outputs": [],
   "source": [
    "# save analysis ready csvs\n",
    "rdm.to_csv(paths.rdm_data)\n",
    "fad.to_csv(paths.fad_data)"
   ]
  },
  {
   "cell_type": "markdown",
   "metadata": {},
   "source": [
    "# Performance information\n",
    "FAD"
   ]
  },
  {
   "cell_type": "code",
   "execution_count": 14,
   "metadata": {},
   "outputs": [
    {
     "data": {
      "text/plain": [
       "(array([0.32, 0.42, 0.53, 0.6 ]), array([0.17, 0.17, 0.18, 0.16]))"
      ]
     },
     "execution_count": 14,
     "metadata": {},
     "output_type": "execute_result"
    }
   ],
   "source": [
    "p_happy = np.full((len(fad.subject.unique()), 4,), np.nan)\n",
    "for sub in range(len(fad.subject.unique())):\n",
    "    s = fad.subject.unique()[sub]\n",
    "    lvl0, lvl1, lvl2, lvl3 = fad.loc[(fad.subject==s) & (fad.emotion == 0)], fad.loc[(fad.subject==s) & (fad.emotion == 1)], fad.loc[(fad.subject==s) & (fad.emotion == 2)], fad.loc[(fad.subject==s) & (fad.emotion == 3)]\n",
    "    p_happy[sub,:] = sum(lvl0.happy)/len(lvl0), sum(lvl1.happy)/len(lvl1), sum(lvl2.happy)/len(lvl2), sum(lvl3.happy)/len(lvl3)\n",
    "\n",
    "np.round(np.mean(p_happy,axis=0),2), np.round(np.std(p_happy,axis=0),2)"
   ]
  },
  {
   "cell_type": "markdown",
   "metadata": {},
   "source": [
    "RDM"
   ]
  },
  {
   "cell_type": "code",
   "execution_count": 15,
   "metadata": {},
   "outputs": [
    {
     "data": {
      "text/plain": [
       "(array([0.74]), array([0.1]))"
      ]
     },
     "execution_count": 15,
     "metadata": {},
     "output_type": "execute_result"
    }
   ],
   "source": [
    "hr = np.full((len(rdm.subject.unique()), 1,), np.nan)\n",
    "for sub in range(len(rdm.subject.unique())):\n",
    "    s = rdm.subject.unique()[sub]\n",
    "    sub_dat= rdm.loc[(rdm.subject==s)]\n",
    "    hr[sub] = sum(sub_dat.hit)/len(sub_dat)\n",
    "\n",
    "np.round(np.mean(hr,axis=0),2), np.round(np.std(hr,axis=0),2)"
   ]
  },
  {
   "cell_type": "markdown",
   "metadata": {},
   "source": [
    "# Stimuli information\n",
    "RDM:"
   ]
  },
  {
   "cell_type": "code",
   "execution_count": 16,
   "metadata": {},
   "outputs": [
    {
     "name": "stdout",
     "output_type": "stream",
     "text": [
      "mean 0.21, SD 0.14, range 0.06-0.49\n"
     ]
    },
    {
     "data": {
      "image/png": "[encoded data removed]",
      "text/plain": [
       "<Figure size 432x288 with 1 Axes>"
      ]
     },
     "metadata": {
      "needs_background": "light"
     },
     "output_type": "display_data"
    }
   ],
   "source": [
    "stimLvls = []\n",
    "for sub in rdm.subject.unique():\n",
    "    stimLvls.append(rdm.loc[rdm.subject==sub].stimLvl.unique()[0])\n",
    "    \n",
    "plt.hist(stimLvls, bins=30)\n",
    "mean = round(np.mean(stimLvls),2)\n",
    "sd = round(np.std(stimLvls),2)\n",
    "min = round(np.min(stimLvls),2)\n",
    "max = round(np.max(stimLvls),2)\n",
    "\n",
    "\n",
    "print(f'mean {mean}, SD {sd}, range {min}-{max}')"
   ]
  },
  {
   "cell_type": "markdown",
   "metadata": {},
   "source": [
    "FAD"
   ]
  },
  {
   "cell_type": "code",
   "execution_count": 18,
   "metadata": {},
   "outputs": [
    {
     "data": {
      "text/plain": [
       "41"
      ]
     },
     "execution_count": 18,
     "metadata": {},
     "output_type": "execute_result"
    }
   ],
   "source": [
    "len(fad.subject.unique())"
   ]
  },
  {
   "cell_type": "markdown",
   "metadata": {},
   "source": [
    "# Demographics and rejection stats"
   ]
  },
  {
   "cell_type": "code",
   "execution_count": 19,
   "metadata": {},
   "outputs": [],
   "source": [
    "demo = pd.DataFrame()\n",
    "\n",
    "for sub in np.sort(data.subject.unique()):\n",
    "    sDat = data.loc[data['subject'] == sub]\n",
    "    age = sDat.age.set_axis(range(len(sDat)))\n",
    "    g = sDat.gender.set_axis(range(len(sDat)))\n",
    "\n",
    "\n",
    "    demo = demo.append({'sub':sub,\n",
    "                        'age':age[0],\n",
    "                        'gender':g[0]}, ignore_index=True)\n",
    "\n",
    "demo.to_csv(paths.demographics)   "
   ]
  },
  {
   "cell_type": "code",
   "execution_count": 20,
   "metadata": {},
   "outputs": [
    {
     "name": "stdout",
     "output_type": "stream",
     "text": [
      "mean age: 26.0\n",
      "age std: 5.9\n",
      "female: 27\n"
     ]
    }
   ],
   "source": [
    "print(f'mean age: {round(np.mean(demo.age),1)}')\n",
    "print(f'age std: {round(np.std(demo.age),1)}')\n",
    "female = sum(demo.gender=='female')\n",
    "print(f'female: {female}')"
   ]
  },
  {
   "cell_type": "code",
   "execution_count": 47,
   "metadata": {},
   "outputs": [
    {
     "name": "stdout",
     "output_type": "stream",
     "text": [
      "number of RDM trials: 318.7 SD 2.0 range 311 320\n",
      "mean % of total RDM trials removed per sub: 0.4 SD 0.6 range 0 9\n",
      "\n",
      "number of FAD trials: 317.6 SD 2.7 range 307 320\n",
      "mean % of total FAD trials removed per sub: 0.7 SD 0.8 range 0 13\n",
      "\n"
     ]
    }
   ],
   "source": [
    "# number of trials left after removing missed responses and fast trials\n",
    "for data, task in zip([rdm, fad], ['RDM', 'FAD']):\n",
    "    nTrials = []\n",
    "    for sub in data.subject.unique():\n",
    "        nTrials.append(len(data.loc[data.subject==sub]))\n",
    "    print(f'number of {task} trials:', round(np.mean(nTrials),1), 'SD',round(np.std(nTrials),1), 'range', np.min(nTrials), np.max(nTrials))\n",
    "    print(f'mean % of total {task} trials removed per sub:', round(((320-np.mean(nTrials))/320)*100,1), 'SD', round(np.std(((320-np.array(nTrials))/320)*100),1), 'range', 320-np.max(nTrials), 320-np.min(nTrials))\n",
    "    print('')"
   ]
  },
  {
   "cell_type": "code",
   "execution_count": 53,
   "metadata": {},
   "outputs": [
    {
     "name": "stdout",
     "output_type": "stream",
     "text": [
      "number of RDM trials for onset : 313.2 SD 8.6 range 284 320 1\n",
      "diff 6 0 36\n",
      " % removed 1.7, SD 2.6\n",
      "\n",
      "number of RDM trials for respons : 313.1 SD 8.5 range 287 320 1\n",
      "diff 6 0 33\n",
      " % removed 1.7, SD 2.6\n",
      "\n",
      "number of FAD trials for onset : 310.9 SD 10.4 range 270 320 1\n",
      "diff 7 0 46\n",
      " % removed 2.1, SD 3.0\n",
      "\n",
      "number of FAD trials for respons : 311.0 SD 10.3 range 270 320 1\n",
      "diff 7 0 46\n",
      " % removed 2.1, SD 3.0\n",
      "\n"
     ]
    }
   ],
   "source": [
    "# number of trials left after removing man bad\n",
    "for data, task in zip([rdm, fad], ['RDM', 'FAD']):\n",
    "    for locking, name in zip(['manBadOnset', 'manBadRespons'], ['onset','respons']):\n",
    "        nDiff = []\n",
    "        nTrials = []\n",
    "        for sub in data.subject.unique():\n",
    "            nTrialsBefore = len(data.loc[(data.subject==sub)])\n",
    "            nTrialsNow = len(data.loc[(data.subject==sub) & (data[locking] != True)])\n",
    "            nTrials.append(nTrialsNow)\n",
    "            nDiff.append(nTrialsBefore-nTrialsNow)\n",
    "        print(f'number of {task} trials for {name} :', round(np.mean(nTrials),1), 'SD',round(np.std(nTrials),1), 'range', np.min(nTrials), np.max(nTrials),1)\n",
    "        print('diff', round(np.mean(nDiff)), np.min(nDiff), np.max(nDiff))\n",
    "        print(f' % removed {round((np.mean(nDiff)/320)*100,1)}, SD', round(np.std(((320-np.array(nDiff))/320)*100),1))\n",
    "        print('')"
   ]
  },
  {
   "cell_type": "code",
   "execution_count": 54,
   "metadata": {},
   "outputs": [
    {
     "name": "stdout",
     "output_type": "stream",
     "text": [
      "number of RDM trials for onset : 295.8 SD 8.4 range 266 307 1\n",
      "diff 17 8 26\n",
      " % removed 5.4,   SD 1.3\n",
      "total mean % removed 7.6,  SD 2.6\n",
      "\n",
      "number of RDM trials for respons : 296.2 SD 9.5 range 267 310 1\n",
      "diff 17 9 28\n",
      " % removed 5.3,   SD 1.7\n",
      "total mean % removed 7.4,  SD 3.0\n",
      "\n",
      "number of FAD trials for onset : 294.9 SD 10.6 range 262 312 1\n",
      "diff 16 3 24\n",
      " % removed 5.0,   SD 1.5\n",
      "total mean % removed 7.9,  SD 3.3\n",
      "\n",
      "number of FAD trials for respons : 294.2 SD 11.1 range 250 312 1\n",
      "diff 17 8 26\n",
      " % removed 5.2,   SD 1.5\n",
      "total mean % removed 8.0,  SD 3.5\n",
      "\n"
     ]
    }
   ],
   "source": [
    "# number of trials left after removig peak trough\n",
    "# creat dfs wo. manual bad trials\n",
    "rdmOns = rdm.loc[(rdm.manBadOnset != True)]\n",
    "rdmRes = rdm.loc[(rdm.manBadRespons != True)]\n",
    "fadOns = fad.loc[(fad.manBadOnset != True)]\n",
    "fadRes = fad.loc[(fad.manBadRespons != True)]\n",
    "\n",
    "# see effect of peak and triugh trials removal\n",
    "for data, task, locking, name in zip( [rdmOns, rdmOns, fadOns, fadRes], ['RDM', 'RDM', 'FAD', 'FAD'], ['onset_phase', 'respons_phase', 'onset_phase', 'respons_phase'], ['onset', 'respons', 'onset', 'respons']):\n",
    "    nDiff = []\n",
    "    nTrials = []\n",
    "    for sub in data.subject.unique():\n",
    "        nTrialsBefore = len(data.loc[(data.subject==sub)])\n",
    "        nTrialsNow = len(data.loc[(data.subject==sub) & (data[locking] != 'peak') & (data[locking] != 'trough')])\n",
    "        nTrials.append(nTrialsNow)\n",
    "        nDiff.append(nTrialsBefore-nTrialsNow)\n",
    "    print(f'number of {task} trials for {name} :', round(np.mean(nTrials),1), 'SD',round(np.std(nTrials),1), 'range', np.min(nTrials), np.max(nTrials),1)\n",
    "    print('diff', round(np.mean(nDiff)), np.min(nDiff), np.max(nDiff))\n",
    "    print(f' % removed {round((np.mean(nDiff)/320)*100,1)},   SD', round(np.std(((320-np.array(nDiff))/320)*100),1))\n",
    "    print(f'total mean % removed {round(((320-np.mean(nTrials))/320)*100,1)},  SD', round(np.std(((320-np.array(nTrials))/320)*100),1))\n",
    "    print('')"
   ]
  },
  {
   "cell_type": "code",
   "execution_count": 50,
   "metadata": {},
   "outputs": [],
   "source": [
    "rdmOnsClean = rdmOns.loc[(rdmOns.onset_phase != 'peak') & (rdmOns.onset_phase != 'trough')]\n",
    "rdmResClean = rdmRes.loc[(rdmRes.respons_phase != 'peak') & (rdmRes.respons_phase != 'trough')]\n",
    "fadOnsClean = fadOns.loc[(fadOns.onset_phase != 'peak') & (fadOns.onset_phase != 'trough')]\n",
    "fadResClean = fadRes.loc[(fadRes.respons_phase != 'peak') & (fadRes.respons_phase != 'trough')]"
   ]
  },
  {
   "cell_type": "code",
   "execution_count": 51,
   "metadata": {},
   "outputs": [],
   "source": [
    "# remove redundant phase cols\n",
    "rdmOnsClean = rdmOnsClean.drop(['respons_phase'], axis=1)\n",
    "rdmResClean = rdmResClean.drop(['onset_phase'], axis=1)\n",
    "fadOnsClean = fadOnsClean.drop(['respons_phase'], axis=1)\n",
    "fadResClean = fadResClean.drop(['onset_phase'], axis=1)\n",
    "# # save dfs\n",
    "rdmOnsClean.to_csv(paths.rdm_onset_data)\n",
    "rdmResClean.to_csv(paths.rdm_respons_data)\n",
    "fadOnsClean.to_csv(paths.fad_onset_data)\n",
    "fadResClean.to_csv(paths.fad_respons_data)"
   ]
  }
 ],
 "metadata": {
  "kernelspec": {
   "display_name": "hddm",
   "language": "python",
   "name": "python3"
  },
  "language_info": {
   "codemirror_mode": {
    "name": "ipython",
    "version": 3
   },
   "file_extension": ".py",
   "mimetype": "text/x-python",
   "name": "python",
   "nbconvert_exporter": "python",
   "pygments_lexer": "ipython3",
   "version": "3.6.13"
  },
  "orig_nbformat": 4
 },
 "nbformat": 4,
 "nbformat_minor": 2
}
